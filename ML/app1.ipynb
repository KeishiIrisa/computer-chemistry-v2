{
  "cells": [
    {
      "cell_type": "code",
      "execution_count": null,
      "metadata": {
        "id": "DkY9avHxn751"
      },
      "outputs": [],
      "source": [
        "# このコードは変更しない\n",
        "!pip install -U ccml2021\n",
        "# You must restart the runtimeとメッセージが出たら、ランタイムを再起動する"
      ]
    },
    {
      "cell_type": "code",
      "execution_count": null,
      "metadata": {
        "id": "IcOV3uHioC7h"
      },
      "outputs": [],
      "source": [
        "import rdkit\n",
        "import numpy as np\n",
        "from rdkit import Chem\n",
        "from rdkit.Chem import Descriptors\n",
        "from rdkit.ML.Descriptors.MoleculeDescriptors import MolecularDescriptorCalculator\n",
        "\n",
        "mols = [mol for mol in Chem.SDMolSupplier('solubility_2007.sdf') if mol is not None]\n",
        "print('load {} molecules'.format(len(mols)))"
      ]
    },
    {
      "cell_type": "code",
      "execution_count": null,
      "metadata": {},
      "outputs": [],
      "source": [
        "import pandas as pd\n",
        "smiles = [Chem.MolToSmiles(mol) for mol in mols]\n",
        "descriptor_names = [name for name, _ in Descriptors.descList]\n",
        "calculator = MolecularDescriptorCalculator(descriptor_names)\n",
        "X = pd.DataFrame(\n",
        "    [calculator.CalcDescriptors(mol) for mol in mols],\n",
        "    index=smiles,\n",
        "    columns=descriptor_names\n",
        ")\n",
        "\n",
        "X = X.loc[:, X.columns.str.startswith('fr_')]\n",
        "X = X.astype(np.float64)\n",
        "\n",
        "X.dropna(axis=1, inplace=True)\n",
        "y = np.array([float(mol.GetProp('EXPT')) for mol in mols])"
      ]
    },
    {
      "cell_type": "code",
      "execution_count": null,
      "metadata": {
        "id": "9FGtRFVRqNLu"
      },
      "outputs": [],
      "source": []
    },
    {
      "cell_type": "markdown",
      "metadata": {
        "id": "ZHVa_yRcpkZW"
      },
      "source": [
        "## 考察記入欄\n",
        "\n",
        "（このセル内に考察を書く）"
      ]
    },
    {
      "cell_type": "markdown",
      "metadata": {
        "id": "unAKDAZhpnuX"
      },
      "source": [
        "## 感想記入欄\n",
        "\n",
        "（このセル内に感想を書く）"
      ]
    },
    {
      "cell_type": "markdown",
      "metadata": {
        "id": "uSqLYKJgp5Sz"
      },
      "source": [
        "## 変数名、ファイル名の最終チェック\n",
        "\n",
        "以下のコードは変更しないでください。\n",
        "\n",
        "実行することで、上のコードが想定通りの変数名、ファイル名を使用しているかをチェックできます。"
      ]
    },
    {
      "cell_type": "code",
      "execution_count": null,
      "metadata": {
        "id": "D9-ODqWboDWp"
      },
      "outputs": [],
      "source": [
        "from ccml2021.checker import app1\n",
        "\n",
        "app1(globals())"
      ]
    }
  ],
  "metadata": {
    "colab": {
      "provenance": []
    },
    "kernelspec": {
      "display_name": "ML-9MY3D_Ho",
      "language": "python",
      "name": "python3"
    },
    "language_info": {
      "codemirror_mode": {
        "name": "ipython",
        "version": 3
      },
      "file_extension": ".py",
      "mimetype": "text/x-python",
      "name": "python",
      "nbconvert_exporter": "python",
      "pygments_lexer": "ipython3",
      "version": "3.13.2"
    }
  },
  "nbformat": 4,
  "nbformat_minor": 0
}
