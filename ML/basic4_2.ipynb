{
  "cells": [
    {
      "cell_type": "code",
      "execution_count": null,
      "metadata": {
        "id": "DkY9avHxn75b"
      },
      "outputs": [],
      "source": [
        "# このコードは変更しない\n",
        "!pip install -U ccml2021\n",
        "# You must restart the runtimeとメッセージが出たら、ランタイムを再起動する"
      ]
    },
    {
      "cell_type": "code",
      "execution_count": 2,
      "metadata": {
        "id": "IcOV3uHioC7h"
      },
      "outputs": [],
      "source": [
        "# 多変数の分類用データ\n",
        "from sklearn import datasets\n",
        "\n",
        "iris = datasets.load_iris()\n",
        "X = iris.data\n",
        "y = iris.target\n",
        "feature_names = iris.feature_names\n",
        "target_names = iris.target_names\n",
        "\n",
        "from sklearn.model_selection import train_test_split\n",
        "X_train, X_test, y_train, y_test = train_test_split(X, y, test_size=0.3)\n",
        "\n",
        "from sklearn.preprocessing import StandardScaler\n",
        "scaler_X = StandardScaler()\n",
        "scaler_X.fit(X_train)\n",
        "X_train_scaled = scaler_X.transform(X_train)\n",
        "X_test_scaled = scaler_X.transform(X_test)"
      ]
    },
    {
      "cell_type": "code",
      "execution_count": 4,
      "metadata": {
        "id": "9FGtRFVRqNLu"
      },
      "outputs": [
        {
          "data": {
            "text/html": [
              "<div>\n",
              "<style scoped>\n",
              "    .dataframe tbody tr th:only-of-type {\n",
              "        vertical-align: middle;\n",
              "    }\n",
              "\n",
              "    .dataframe tbody tr th {\n",
              "        vertical-align: top;\n",
              "    }\n",
              "\n",
              "    .dataframe thead th {\n",
              "        text-align: right;\n",
              "    }\n",
              "</style>\n",
              "<table border=\"1\" class=\"dataframe\">\n",
              "  <thead>\n",
              "    <tr style=\"text-align: right;\">\n",
              "      <th></th>\n",
              "      <th>setosa (pred)</th>\n",
              "      <th>versicolor (pred)</th>\n",
              "      <th>virginica (pred)</th>\n",
              "    </tr>\n",
              "  </thead>\n",
              "  <tbody>\n",
              "    <tr>\n",
              "      <th>setosa</th>\n",
              "      <td>13</td>\n",
              "      <td>1</td>\n",
              "      <td>0</td>\n",
              "    </tr>\n",
              "    <tr>\n",
              "      <th>versicolor</th>\n",
              "      <td>0</td>\n",
              "      <td>15</td>\n",
              "      <td>1</td>\n",
              "    </tr>\n",
              "    <tr>\n",
              "      <th>virginica</th>\n",
              "      <td>0</td>\n",
              "      <td>2</td>\n",
              "      <td>13</td>\n",
              "    </tr>\n",
              "  </tbody>\n",
              "</table>\n",
              "</div>"
            ],
            "text/plain": [
              "            setosa (pred)  versicolor (pred)  virginica (pred)\n",
              "setosa                 13                  1                 0\n",
              "versicolor              0                 15                 1\n",
              "virginica               0                  2                13"
            ]
          },
          "execution_count": 4,
          "metadata": {},
          "output_type": "execute_result"
        }
      ],
      "source": [
        "# SVMを用いた予測\n",
        "from sklearn.svm import SVC\n",
        "from sklearn.model_selection import GridSearchCV\n",
        "\n",
        "model_svm = GridSearchCV(\n",
        "    SVC(),\n",
        "    param_grid={\n",
        "        'gamma': [2**ii for ii in range(-5, 5)],\n",
        "        'C': [2**ii for ii in range(-5, 5)],\n",
        "    },\n",
        "    cv=5,\n",
        ")\n",
        "model_svm.fit(X_train_scaled, y_train)\n",
        "y_test_pred_svm = model_svm.predict(X_test_scaled)\n",
        "\n",
        "# 混合行列による予測結果の確認\n",
        "from sklearn.metrics import confusion_matrix\n",
        "import pandas as pd\n",
        "matrix_svm = pd.DataFrame(\n",
        "    confusion_matrix(y_test, y_test_pred_svm),\n",
        "    index=target_names,\n",
        "    columns=[name + ' (pred)' for name in target_names]\n",
        ")\n",
        "matrix_svm"
      ]
    },
    {
      "cell_type": "code",
      "execution_count": 5,
      "metadata": {},
      "outputs": [
        {
          "data": {
            "text/html": [
              "<div>\n",
              "<style scoped>\n",
              "    .dataframe tbody tr th:only-of-type {\n",
              "        vertical-align: middle;\n",
              "    }\n",
              "\n",
              "    .dataframe tbody tr th {\n",
              "        vertical-align: top;\n",
              "    }\n",
              "\n",
              "    .dataframe thead th {\n",
              "        text-align: right;\n",
              "    }\n",
              "</style>\n",
              "<table border=\"1\" class=\"dataframe\">\n",
              "  <thead>\n",
              "    <tr style=\"text-align: right;\">\n",
              "      <th></th>\n",
              "      <th>setosa (pred)</th>\n",
              "      <th>versicolor (pred)</th>\n",
              "      <th>virginica (pred)</th>\n",
              "    </tr>\n",
              "  </thead>\n",
              "  <tbody>\n",
              "    <tr>\n",
              "      <th>setosa</th>\n",
              "      <td>14</td>\n",
              "      <td>0</td>\n",
              "      <td>0</td>\n",
              "    </tr>\n",
              "    <tr>\n",
              "      <th>versicolor</th>\n",
              "      <td>0</td>\n",
              "      <td>16</td>\n",
              "      <td>0</td>\n",
              "    </tr>\n",
              "    <tr>\n",
              "      <th>virginica</th>\n",
              "      <td>0</td>\n",
              "      <td>2</td>\n",
              "      <td>13</td>\n",
              "    </tr>\n",
              "  </tbody>\n",
              "</table>\n",
              "</div>"
            ],
            "text/plain": [
              "            setosa (pred)  versicolor (pred)  virginica (pred)\n",
              "setosa                 14                  0                 0\n",
              "versicolor              0                 16                 0\n",
              "virginica               0                  2                13"
            ]
          },
          "execution_count": 5,
          "metadata": {},
          "output_type": "execute_result"
        }
      ],
      "source": [
        "# Random Forestを用いた予測\n",
        "from sklearn.ensemble import RandomForestClassifier\n",
        "\n",
        "model_rf = RandomForestClassifier(n_estimators=500)\n",
        "model_rf.fit(X_train_scaled, y_train)\n",
        "\n",
        "y_test_pred_rf = model_rf.predict(X_test_scaled)\n",
        "\n",
        "# 混合行列による予測結果の確認\n",
        "matrix_rf = pd.DataFrame(\n",
        "    confusion_matrix(y_test, y_test_pred_rf),\n",
        "    index=target_names,\n",
        "    columns=[name + ' (pred)' for name in target_names]\n",
        ")\n",
        "matrix_rf"
      ]
    },
    {
      "cell_type": "markdown",
      "metadata": {
        "id": "ZHVa_yRcpkZW"
      },
      "source": [
        "## 考察記入欄\n",
        "\n",
        "SVMとRandomForestによる予測結果を混合行列によって確認した。その結果について、両手法ともvirginicaにおいて2件の誤分類が発生しているため、versicolorとvirginicaの境界が比較的曖昧である可能性がある。SVMはsetosaで誤分類が見られる点から、ハイパーパラメータの調整の影響があり、データの分布に対する感度が高いと考えられる。\n",
        "一方、Random Forestはノイズに対して強く、setosaとversicolorでは完璧な識別ができている。"
      ]
    },
    {
      "cell_type": "markdown",
      "metadata": {
        "id": "unAKDAZhpnuX"
      },
      "source": [
        "## 感想記入欄\n",
        "\n",
        "今回はSVMとRandomForest両手法でirisデータセットの各品種を分類した。混合行列によって予測結果を比較することで、各アルゴリズムの特徴や得意な領域、分類の難易度を定量的に評価することができました。モデル選択やハイパーパラメタの最適化の重要性を感じることができました。"
      ]
    },
    {
      "cell_type": "markdown",
      "metadata": {
        "id": "uSqLYKJgp5Sz"
      },
      "source": [
        "## 変数名、ファイル名の最終チェック\n",
        "\n",
        "以下のコードは変更しないでください。\n",
        "\n",
        "実行することで、上のコードが想定通りの変数名、ファイル名を使用しているかをチェックできます。"
      ]
    },
    {
      "cell_type": "code",
      "execution_count": null,
      "metadata": {
        "id": "D9-ODqWboDWp"
      },
      "outputs": [],
      "source": [
        "from ccml2021.checker import basic4_2\n",
        "\n",
        "basic4_2(globals())"
      ]
    }
  ],
  "metadata": {
    "colab": {
      "provenance": []
    },
    "kernelspec": {
      "display_name": "ML-9MY3D_Ho",
      "language": "python",
      "name": "python3"
    },
    "language_info": {
      "codemirror_mode": {
        "name": "ipython",
        "version": 3
      },
      "file_extension": ".py",
      "mimetype": "text/x-python",
      "name": "python",
      "nbconvert_exporter": "python",
      "pygments_lexer": "ipython3",
      "version": "3.13.2"
    }
  },
  "nbformat": 4,
  "nbformat_minor": 0
}
