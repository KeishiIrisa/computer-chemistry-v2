{
  "cells": [
    {
      "cell_type": "code",
      "execution_count": null,
      "metadata": {
        "id": "DkY9avHxn753"
      },
      "outputs": [],
      "source": [
        "# このコードは変更しない\n",
        "!pip install -U ccml2021\n",
        "# You must restart the runtimeとメッセージが出たら、ランタイムを再起動する"
      ]
    },
    {
      "cell_type": "code",
      "execution_count": null,
      "metadata": {
        "id": "IcOV3uHioC7h"
      },
      "outputs": [
        {
          "name": "stdout",
          "output_type": "stream",
          "text": [
            "Please input 4 dimensional vector: ^C\n"
          ]
        }
      ],
      "source": [
        "# !four_dim_exp1 >> result.csv"
      ]
    },
    {
      "cell_type": "code",
      "execution_count": 34,
      "metadata": {
        "id": "9FGtRFVRqNLu"
      },
      "outputs": [
        {
          "name": "stdout",
          "output_type": "stream",
          "text": [
            "/Users/irisakeishi/.local/share/virtualenvs/ML-9MY3D_Ho/lib/python3.13/site-packages/sklearn/gaussian_process/kernels.py:442: ConvergenceWarning: The optimal value found for dimension 0 of parameter k2__noise_level is close to the specified lower bound 1e-05. Decreasing the bound and calling fit again may find a better value.\n",
            "  warnings.warn(\n",
            "      0  1  2  3       PoI\n",
            "543   0  5  4  3  0.349645\n",
            "691   0  6  9  1  0.338823\n",
            "690   0  6  9  0  0.337864\n",
            "591   0  5  9  1  0.337327\n",
            "1690  1  6  9  0  0.337286\n"
          ]
        }
      ],
      "source": [
        "!python test_GPDoE.py result.csv"
      ]
    },
    {
      "cell_type": "markdown",
      "metadata": {
        "id": "ZHVa_yRcpkZW"
      },
      "source": [
        "## 考察記入欄\n",
        "\n",
        "four_dim_exp1では、コストの最小となる実験条件0.0,4.0,2.0,3.0,コストの最小値0.001998001332666921となった。\n",
        "four_dim_exp2では、コストの最小となる実験条件0.0,5.0,3.0,4.0,コストの最小値0.05231382619666647となった。\n",
        "\n",
        "両者を比較すると、前者の方が圧倒的に低いコスト値が得られていることがわかる。後者では最適条件は見つかったものの、コスト値が高い。これは条件空間の平坦な部分で最適解に近い結果になったからだと考える。\n",
        "この結果から、実験計画法に基づく条件最適化においては、初期の探索方法やパラメータ設定が大きく影響することがわかる。\n"
      ]
    },
    {
      "cell_type": "markdown",
      "metadata": {
        "id": "unAKDAZhpnuX"
      },
      "source": [
        "## 感想記入欄\n",
        "\n",
        "今回の実験では、実験計画法を用いて多次元の実験条件空間から最適条件を探索しましたが、2つの実験で得られたコスト値の差から初期パラメタの設定やサンプリング方法が結果に影響することがわかりました。\n",
        "今後は、探索回数を増加させたり、ハイパーパラメタ設定の自動調整を最適化アルゴリズムを使って行い、局所解に陥らないようにするなどの工夫が考えられる。"
      ]
    },
    {
      "cell_type": "markdown",
      "metadata": {
        "id": "uSqLYKJgp5Sz"
      },
      "source": [
        "## 変数名、ファイル名の最終チェック\n",
        "\n",
        "以下のコードは変更しないでください。\n",
        "\n",
        "実行することで、上のコードが想定通りの変数名、ファイル名を使用しているかをチェックできます。"
      ]
    },
    {
      "cell_type": "code",
      "execution_count": null,
      "metadata": {
        "id": "D9-ODqWboDWp"
      },
      "outputs": [],
      "source": [
        "from ccml2021.checker import app3\n",
        "\n",
        "app3(globals())"
      ]
    }
  ],
  "metadata": {
    "colab": {
      "provenance": []
    },
    "kernelspec": {
      "display_name": "ML-9MY3D_Ho",
      "language": "python",
      "name": "python3"
    },
    "language_info": {
      "codemirror_mode": {
        "name": "ipython",
        "version": 3
      },
      "file_extension": ".py",
      "mimetype": "text/x-python",
      "name": "python",
      "nbconvert_exporter": "python",
      "pygments_lexer": "ipython3",
      "version": "3.13.2"
    }
  },
  "nbformat": 4,
  "nbformat_minor": 0
}
