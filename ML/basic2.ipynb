{
  "cells": [
    {
      "cell_type": "code",
      "execution_count": null,
      "metadata": {
        "id": "DkY9avHxn756"
      },
      "outputs": [],
      "source": [
        "# このコードは変更しない\n",
        "!pip install -U ccml2021\n",
        "# You must restart the runtimeとメッセージが出たら、ランタイムを再起動する"
      ]
    },
    {
      "cell_type": "code",
      "execution_count": 3,
      "metadata": {
        "id": "IcOV3uHioC7h"
      },
      "outputs": [],
      "source": [
        "#（ここからコードを書いていく）\n",
        "!python basic2.py iris_X.txt"
      ]
    },
    {
      "cell_type": "markdown",
      "metadata": {
        "id": "ZHVa_yRcpkZW"
      },
      "source": [
        "## 考察記入欄\n",
        "\n",
        "### データセットの変数\n",
        "* sepal length (cm): がく片の長さ\n",
        "* sepal width (cm): がく片の幅\n",
        "* petal length (cm): 花弁の長さ\n",
        "* petal width (cm): 花弁の幅\n",
        "\n",
        "### 統計量の詳細\n",
        "* count(サンプル数)\n",
        "* mean（平均値）\n",
        "* std（標準偏差）\n",
        "* min（最小値）\n",
        "* 25%（第一四分位数）\n",
        "* 50%（中央値）\n",
        "* 75%（第三四分位数）\n",
        "* max（最大値）"
      ]
    },
    {
      "cell_type": "markdown",
      "metadata": {
        "id": "unAKDAZhpnuX"
      },
      "source": [
        "## 感想記入欄\n",
        "* sepal（がく片）のサイズ（長さ・幅）は比較的狭い範囲に収まっている一方で、petal（花弁）のサイズはばらつきが大きい\n",
        "* 標準偏差の値から、petal長およびpetal幅のばらつきが顕著であり、これが分類モデルの特徴抽出において重要な指標となる"
      ]
    },
    {
      "cell_type": "markdown",
      "metadata": {
        "id": "uSqLYKJgp5Sz"
      },
      "source": [
        "## 変数名、ファイル名の最終チェック\n",
        "\n",
        "以下のコードは変更しないでください。\n",
        "\n",
        "実行することで、上のコードが想定通りの変数名、ファイル名を使用しているかをチェックできます。"
      ]
    },
    {
      "cell_type": "code",
      "execution_count": null,
      "metadata": {
        "id": "D9-ODqWboDWp"
      },
      "outputs": [],
      "source": [
        "from ccml2021.checker import basic2\n",
        "\n",
        "basic2(globals())"
      ]
    }
  ],
  "metadata": {
    "colab": {
      "provenance": []
    },
    "kernelspec": {
      "display_name": "ML-9MY3D_Ho",
      "language": "python",
      "name": "python3"
    },
    "language_info": {
      "codemirror_mode": {
        "name": "ipython",
        "version": 3
      },
      "file_extension": ".py",
      "mimetype": "text/x-python",
      "name": "python",
      "nbconvert_exporter": "python",
      "pygments_lexer": "ipython3",
      "version": "3.13.2"
    }
  },
  "nbformat": 4,
  "nbformat_minor": 0
}
