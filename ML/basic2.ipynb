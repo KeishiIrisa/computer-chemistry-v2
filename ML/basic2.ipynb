{
  "cells": [
    {
      "cell_type": "code",
      "execution_count": null,
      "metadata": {
        "id": "DkY9avHxn756"
      },
      "outputs": [],
      "source": [
        "# このコードは変更しない\n",
        "!pip install -U ccml2021\n",
        "# You must restart the runtimeとメッセージが出たら、ランタイムを再起動する"
      ]
    },
    {
      "cell_type": "code",
      "execution_count": 4,
      "metadata": {
        "id": "IcOV3uHioC7h"
      },
      "outputs": [
        {
          "name": "stdout",
          "output_type": "stream",
          "text": [
            "/Users/irisakeishi/development-practice/computer-chemistry-v2/ML/basic2.py:8: ParserWarning: Falling back to the 'python' engine because the 'c' engine does not support regex separators (separators > 1 char and different from '\\s+' are interpreted as regex); you can avoid this warning by specifying engine='python'.\n",
            "  data = pd.read_csv(input_filename, sep='¥t')\n"
          ]
        }
      ],
      "source": [
        "#（ここからコードを書いていく）\n",
        "!python basic2.py iris_X.txt"
      ]
    },
    {
      "cell_type": "code",
      "execution_count": null,
      "metadata": {
        "id": "9FGtRFVRqNLu"
      },
      "outputs": [],
      "source": []
    },
    {
      "cell_type": "markdown",
      "metadata": {
        "id": "ZHVa_yRcpkZW"
      },
      "source": [
        "## 考察記入欄\n",
        "\n",
        "（このセル内に考察を書く）"
      ]
    },
    {
      "cell_type": "markdown",
      "metadata": {
        "id": "unAKDAZhpnuX"
      },
      "source": [
        "## 感想記入欄\n",
        "\n",
        "（このセル内に感想を書く）"
      ]
    },
    {
      "cell_type": "markdown",
      "metadata": {
        "id": "uSqLYKJgp5Sz"
      },
      "source": [
        "## 変数名、ファイル名の最終チェック\n",
        "\n",
        "以下のコードは変更しないでください。\n",
        "\n",
        "実行することで、上のコードが想定通りの変数名、ファイル名を使用しているかをチェックできます。"
      ]
    },
    {
      "cell_type": "code",
      "execution_count": null,
      "metadata": {
        "id": "D9-ODqWboDWp"
      },
      "outputs": [],
      "source": [
        "from ccml2021.checker import basic2\n",
        "\n",
        "basic2(globals())"
      ]
    }
  ],
  "metadata": {
    "colab": {
      "provenance": []
    },
    "kernelspec": {
      "display_name": "Python 3",
      "name": "python3"
    },
    "language_info": {
      "name": "python"
    }
  },
  "nbformat": 4,
  "nbformat_minor": 0
}
